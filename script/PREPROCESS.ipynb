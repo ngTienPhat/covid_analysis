{
 "cells": [
  {
   "cell_type": "code",
   "execution_count": 7,
   "metadata": {},
   "outputs": [],
   "source": [
    "import os\n",
    "import matplotlib.pyplot as plt \n",
    "import seaborn as sns\n",
    "import pandas as pd \n",
    "\n",
    "os.chdir(\"/Users/tienphat/Documents/HCMUS/Statistic_Application/covid_analysis\")\n",
    "\n",
    "data_dir = \"dataset/csse_covid_19_daily_reports_us\"\n",
    "list_dir = os.listdir(data_dir)"
   ]
  },
  {
   "cell_type": "code",
   "execution_count": 14,
   "metadata": {},
   "outputs": [
    {
     "name": "stderr",
     "output_type": "stream",
     "text": [
      "100%|██████████| 111/111 [00:00<00:00, 165.23it/s]\n"
     ]
    }
   ],
   "source": [
    "# FILL na with zero\n",
    "\n",
    "import tqdm\n",
    "cols_to_fillna=['Confirmed', 'Deaths', 'Recovered', 'Active']\n",
    "\n",
    "for filename in tqdm.tqdm(list_dir):\n",
    "    if not filename.endswith('.csv'):\n",
    "        continue\n",
    "    filedir = os.path.join(data_dir, filename)\n",
    "    file_df = pd.read_csv(filedir)\n",
    "    file_df[cols_to_fillna] = file_df[cols_to_fillna].fillna(value=0)\n",
    "    file_df.to_csv(filedir, index=False)\n"
   ]
  },
  {
   "cell_type": "code",
   "execution_count": 37,
   "metadata": {},
   "outputs": [
    {
     "name": "stderr",
     "output_type": "stream",
     "text": [
      "100%|██████████| 108/108 [00:31<00:00,  3.45it/s]\n"
     ]
    }
   ],
   "source": [
    "# Group files by state\n",
    "\n",
    "import tqdm \n",
    "\n",
    "sample_file = os.path.join(data_dir, list_dir[0])\n",
    "sample_df = pd.read_csv(sample_file)\n",
    "list_states = sample_df['Province_State']\n",
    "imp_columns = ['Day', 'Confirmed', 'Deaths', 'Recovered', 'Active', 'People_Tested']\n",
    "\n",
    "combine_dict = dict()\n",
    "\n",
    "# Sort day string\n",
    "from datetime import datetime\n",
    "list_day = [s.split('.')[0] for s in list_dir if s.endswith('.csv')]\n",
    "sorted_list_day = sorted(\n",
    "    list_day,\n",
    "    key=lambda x: datetime.strptime(x, '%m-%d-%Y'), reverse=False\n",
    ")\n",
    "\n",
    "for day in tqdm.tqdm(sorted_list_day):\n",
    "    day_filedir = day+'.csv'\n",
    "    day_df = pd.read_csv(os.path.join(data_dir, day_filedir))\n",
    "    \n",
    "    for state in list_states:\n",
    "        if state not in combine_dict.keys():\n",
    "            combine_dict[state] = pd.DataFrame(columns=imp_columns)\n",
    "\n",
    "        state_df = day_df[day_df['Province_State']==state]\n",
    "\n",
    "        append_dict = {'Day': day}\n",
    "        for col in imp_columns[1:]:\n",
    "            append_dict.update({col: state_df[col].values[0]})\n",
    "        \n",
    "        combine_dict[state] = combine_dict[state].append(append_dict, ignore_index=True)\n",
    "\n",
    "for key in combine_dict.keys():\n",
    "    combine_dict[key].to_csv(os.path.join('dataset/csse_combine_state', key+'.csv'), index=False)\n"
   ]
  },
  {
   "cell_type": "code",
   "execution_count": null,
   "metadata": {},
   "outputs": [],
   "source": []
  }
 ],
 "metadata": {
  "kernelspec": {
   "display_name": "Python 3",
   "language": "python",
   "name": "python3"
  },
  "language_info": {
   "codemirror_mode": {
    "name": "ipython",
    "version": 3
   },
   "file_extension": ".py",
   "mimetype": "text/x-python",
   "name": "python",
   "nbconvert_exporter": "python",
   "pygments_lexer": "ipython3",
   "version": "3.8.0"
  }
 },
 "nbformat": 4,
 "nbformat_minor": 4
}
